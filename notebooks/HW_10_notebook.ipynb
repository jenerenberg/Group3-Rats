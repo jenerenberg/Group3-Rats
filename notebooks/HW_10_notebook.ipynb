{
  "nbformat": 4,
  "nbformat_minor": 0,
  "metadata": {
    "colab": {
      "provenance": []
    },
    "kernelspec": {
      "name": "python3",
      "display_name": "Python 3"
    },
    "language_info": {
      "name": "python"
    }
  },
  "cells": [
    {
      "cell_type": "code",
      "execution_count": 2,
      "metadata": {
        "colab": {
          "base_uri": "https://localhost:8080/"
        },
        "id": "qo-thlPf4Jrt",
        "outputId": "23c09349-dfda-4f1a-c957-6c231089afe1"
      },
      "outputs": [
        {
          "output_type": "stream",
          "name": "stdout",
          "text": [
            "RATZ\n"
          ]
        }
      ],
      "source": [
        "print('RATZ')"
      ]
    }
  ]
}